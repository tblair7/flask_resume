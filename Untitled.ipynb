{
 "cells": [
  {
   "cell_type": "code",
   "execution_count": 1,
   "metadata": {},
   "outputs": [],
   "source": [
    "from flask_resume import playlist_online"
   ]
  },
  {
   "cell_type": "code",
   "execution_count": 47,
   "metadata": {},
   "outputs": [],
   "source": [
    "a = playlist_online.songQuery('Mayer', 20)"
   ]
  },
  {
   "cell_type": "code",
   "execution_count": 48,
   "metadata": {},
   "outputs": [
    {
     "data": {
      "text/plain": [
       "[('John Mayer - I Will Be Found (Lost At Sea)',),\n",
       " ('Mayer Hawthorne - Reach Out Richard (Mitzi Remix)',),\n",
       " ('Mayer Hawthorne - Her Favorite Song',),\n",
       " ('Mayer Hawthorne \"Designer Drug\" Lyric Video',),\n",
       " ('Dennis Coffey - All Your Goodies Are Gone (feat. Mayer Hawthorne) (Shigeto Remix)',),\n",
       " ('Stop This Train - John Mayer (Tori Kelly & Passion Cover)',),\n",
       " ('John Mayer - My stupid mouth (Acoustic)',),\n",
       " ('Not Myself - John Mayer',),\n",
       " ('Stitched Up - Herbie Hancock feat. John Mayer',),\n",
       " ('John Mayer - Edge of Desire (Live at the Hollywood Bowl, August 22, 2010)',),\n",
       " ('I Dont Trust Myself by John Mayer (Cover by Conner Snow)',)]"
      ]
     },
     "execution_count": 48,
     "metadata": {},
     "output_type": "execute_result"
    }
   ],
   "source": [
    "a"
   ]
  },
  {
   "cell_type": "code",
   "execution_count": 56,
   "metadata": {},
   "outputs": [],
   "source": [
    "import sqlite3\n",
    "conn = sqlite3.connect('flask_resume/YT_songs_short.db')"
   ]
  },
  {
   "cell_type": "code",
   "execution_count": 119,
   "metadata": {},
   "outputs": [],
   "source": [
    "title_insert = 'mayer'\n",
    "matches =  conn.execute(\"\"\"SELECT TITLE FROM SONGS WHERE TITLE LIKE '%mayer%'\"\"\").fetchall()"
   ]
  },
  {
   "cell_type": "code",
   "execution_count": 120,
   "metadata": {},
   "outputs": [
    {
     "data": {
      "text/plain": [
       "[('John Mayer - I Will Be Found (Lost At Sea)',),\n",
       " ('Mayer Hawthorne - Reach Out Richard (Mitzi Remix)',),\n",
       " ('Mayer Hawthorne - Her Favorite Song',),\n",
       " ('Mayer Hawthorne \"Designer Drug\" Lyric Video',),\n",
       " ('Dennis Coffey - All Your Goodies Are Gone (feat. Mayer Hawthorne) (Shigeto Remix)',),\n",
       " ('Stop This Train - John Mayer (Tori Kelly & Passion Cover)',),\n",
       " ('John Mayer - My stupid mouth (Acoustic)',),\n",
       " ('Not Myself - John Mayer',),\n",
       " ('Stitched Up - Herbie Hancock feat. John Mayer',),\n",
       " ('John Mayer - Edge of Desire (Live at the Hollywood Bowl, August 22, 2010)',),\n",
       " ('I Dont Trust Myself by John Mayer (Cover by Conner Snow)',)]"
      ]
     },
     "execution_count": 120,
     "metadata": {},
     "output_type": "execute_result"
    }
   ],
   "source": [
    "matches"
   ]
  },
  {
   "cell_type": "code",
   "execution_count": 99,
   "metadata": {},
   "outputs": [],
   "source": [
    "def makePlaylist(matches, selection, num_songs):\n",
    "\n",
    "    import pickle as pckl\n",
    "    import pandas as pd\n",
    "\n",
    "    from sklearn.metrics import pairwise_distances\n",
    "    import shutil, os\n",
    "    import string\n",
    "\n",
    "    desired_song = conn.execute(\"\"\"SELECT ID FROM SONGS WHERE TITLE LIKE (?)\"\"\", (matches[selection-1][0],)).fetchall()\n",
    "\n",
    "    features_df = pckl.load(open('flask_resume/static/data/features_df_norm.pckl','rb'))\n",
    "\n",
    "    min_dists = pairwise_distances(features_df.loc[desired_song[0][0]].values.reshape(1,-1), features_df.values)\n",
    "    neighbor_indices = min_dists.argsort()[0][:num_songs]\n",
    "    \n",
    "    return neighbor_indices"
   ]
  },
  {
   "cell_type": "code",
   "execution_count": 100,
   "metadata": {},
   "outputs": [],
   "source": [
    "a = makePlaylist(matches,2,20)"
   ]
  },
  {
   "cell_type": "code",
   "execution_count": 118,
   "metadata": {},
   "outputs": [
    {
     "data": {
      "text/plain": [
       "'495C1u1MXno,EZSVz_6v4lc,CTedhFLlrYU,8wjbY0Tyfr4,6lQe4pzWIcw,0nplzEY0IXA,JsHMW4A81M4,TtqiBUOSm_A,raS-okYcoyU,VvdwkzhI5mQ,EjqzeIMwVmw,FnIoZsD2X84,o5AyS4gibO4,BsA_dVaKSjE,dQOEsORxKHc,UOmTVrx_qXQ,WK_2xp4jiVI,kAmX1T37-wA,07yXl6aV-5w,-AB-LmbsYTE'"
      ]
     },
     "execution_count": 118,
     "metadata": {},
     "output_type": "execute_result"
    }
   ],
   "source": [
    "b = ','.join(features_df.iloc[a].index.tolist())\n",
    "b"
   ]
  },
  {
   "cell_type": "code",
   "execution_count": 115,
   "metadata": {},
   "outputs": [
    {
     "data": {
      "text/plain": [
       "['495C1u1MXno',\n",
       " 'EZSVz_6v4lc',\n",
       " 'CTedhFLlrYU',\n",
       " '8wjbY0Tyfr4',\n",
       " '6lQe4pzWIcw',\n",
       " '0nplzEY0IXA',\n",
       " 'JsHMW4A81M4',\n",
       " 'TtqiBUOSm_A',\n",
       " 'raS-okYcoyU',\n",
       " 'VvdwkzhI5mQ',\n",
       " 'EjqzeIMwVmw',\n",
       " 'FnIoZsD2X84',\n",
       " 'o5AyS4gibO4',\n",
       " 'BsA_dVaKSjE',\n",
       " 'dQOEsORxKHc',\n",
       " 'UOmTVrx_qXQ',\n",
       " 'WK_2xp4jiVI',\n",
       " 'kAmX1T37-wA',\n",
       " '07yXl6aV-5w',\n",
       " '-AB-LmbsYTE']"
      ]
     },
     "execution_count": 115,
     "metadata": {},
     "output_type": "execute_result"
    }
   ],
   "source": [
    "b.index.tolist()"
   ]
  },
  {
   "cell_type": "code",
   "execution_count": 110,
   "metadata": {},
   "outputs": [
    {
     "data": {
      "text/plain": [
       "zcr_mean                   0.359592\n",
       "energy_mean                0.185463\n",
       "energy_entropy_mean        0.928782\n",
       "spectral_centroid_mean     0.554549\n",
       "spectral_spread_mean        0.75347\n",
       "spectral_entropy_mean       0.31075\n",
       "spectral_flux_mean         0.459199\n",
       "spectral_rolloff_mean      0.320346\n",
       "zcr_std                   0.0454762\n",
       "energy_std                0.0658875\n",
       "energy_entropy_std         0.219087\n",
       "spectral_centroid_std     0.0530438\n",
       "spectral_spread_std       0.0314221\n",
       "spectral_entropy_std       0.416723\n",
       "spectral_flux_std         0.0154679\n",
       "spectral_rolloff_std      0.0943314\n",
       "Name: 495C1u1MXno, dtype: object"
      ]
     },
     "execution_count": 110,
     "metadata": {},
     "output_type": "execute_result"
    }
   ],
   "source": [
    "features_df.iloc[3847]"
   ]
  },
  {
   "cell_type": "code",
   "execution_count": 95,
   "metadata": {},
   "outputs": [],
   "source": [
    "desired_song = conn.execute(\"\"\"SELECT id FROM SONGS WHERE TITLE LIKE (?)\"\"\", (matches[2-1])).fetchall()"
   ]
  },
  {
   "cell_type": "code",
   "execution_count": 98,
   "metadata": {},
   "outputs": [
    {
     "data": {
      "text/plain": [
       "'495C1u1MXno'"
      ]
     },
     "execution_count": 98,
     "metadata": {},
     "output_type": "execute_result"
    }
   ],
   "source": [
    "desired_song[0][0]"
   ]
  },
  {
   "cell_type": "code",
   "execution_count": 128,
   "metadata": {},
   "outputs": [],
   "source": [
    "import json\n",
    "json_matches = json.dumps(matches)"
   ]
  },
  {
   "cell_type": "code",
   "execution_count": 134,
   "metadata": {},
   "outputs": [
    {
     "data": {
      "text/plain": [
       "['John Mayer - I Will Be Found (Lost At Sea)',\n",
       " 'Mayer Hawthorne - Reach Out Richard (Mitzi Remix)',\n",
       " 'Mayer Hawthorne - Her Favorite Song',\n",
       " 'Mayer Hawthorne \"Designer Drug\" Lyric Video',\n",
       " 'Dennis Coffey - All Your Goodies Are Gone (feat. Mayer Hawthorne) (Shigeto Remix)',\n",
       " 'Stop This Train - John Mayer (Tori Kelly & Passion Cover)',\n",
       " 'John Mayer - My stupid mouth (Acoustic)',\n",
       " 'Not Myself - John Mayer',\n",
       " 'Stitched Up - Herbie Hancock feat. John Mayer',\n",
       " 'John Mayer - Edge of Desire (Live at the Hollywood Bowl, August 22, 2010)',\n",
       " 'I Dont Trust Myself by John Mayer (Cover by Conner Snow)']"
      ]
     },
     "execution_count": 134,
     "metadata": {},
     "output_type": "execute_result"
    }
   ],
   "source": [
    "shorten = []\n",
    "for i in range(len(matches)):\n",
    "    shorten.append(matches[i][0])\n",
    "    \n",
    "shorten"
   ]
  },
  {
   "cell_type": "code",
   "execution_count": 135,
   "metadata": {},
   "outputs": [
    {
     "data": {
      "text/plain": [
       "'[\"John Mayer - I Will Be Found (Lost At Sea)\", \"Mayer Hawthorne - Reach Out Richard (Mitzi Remix)\", \"Mayer Hawthorne - Her Favorite Song\", \"Mayer Hawthorne \\\\\"Designer Drug\\\\\" Lyric Video\", \"Dennis Coffey - All Your Goodies Are Gone (feat. Mayer Hawthorne) (Shigeto Remix)\", \"Stop This Train - John Mayer (Tori Kelly & Passion Cover)\", \"John Mayer - My stupid mouth (Acoustic)\", \"Not Myself - John Mayer\", \"Stitched Up - Herbie Hancock feat. John Mayer\", \"John Mayer - Edge of Desire (Live at the Hollywood Bowl, August 22, 2010)\", \"I Dont Trust Myself by John Mayer (Cover by Conner Snow)\"]'"
      ]
     },
     "execution_count": 135,
     "metadata": {},
     "output_type": "execute_result"
    }
   ],
   "source": [
    "json_shorten = json.dumps(shorten)\n",
    "json_shorten"
   ]
  },
  {
   "cell_type": "code",
   "execution_count": 137,
   "metadata": {},
   "outputs": [
    {
     "data": {
      "text/plain": [
       "list"
      ]
     },
     "execution_count": 137,
     "metadata": {},
     "output_type": "execute_result"
    }
   ],
   "source": [
    "type(shorten)"
   ]
  },
  {
   "cell_type": "code",
   "execution_count": null,
   "metadata": {},
   "outputs": [],
   "source": []
  }
 ],
 "metadata": {
  "kernelspec": {
   "display_name": "Python 3",
   "language": "python",
   "name": "python3"
  },
  "language_info": {
   "codemirror_mode": {
    "name": "ipython",
    "version": 3
   },
   "file_extension": ".py",
   "mimetype": "text/x-python",
   "name": "python",
   "nbconvert_exporter": "python",
   "pygments_lexer": "ipython3",
   "version": "3.7.1"
  }
 },
 "nbformat": 4,
 "nbformat_minor": 2
}
